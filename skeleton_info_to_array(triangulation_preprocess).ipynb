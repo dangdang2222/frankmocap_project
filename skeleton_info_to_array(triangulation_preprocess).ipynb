{
  "nbformat": 4,
  "nbformat_minor": 0,
  "metadata": {
    "colab": {
      "provenance": [],
      "authorship_tag": "ABX9TyO2IPUTtPeQMjhkBDehFDkY",
      "include_colab_link": true
    },
    "kernelspec": {
      "name": "python3",
      "display_name": "Python 3"
    },
    "language_info": {
      "name": "python"
    }
  },
  "cells": [
    {
      "cell_type": "markdown",
      "metadata": {
        "id": "view-in-github",
        "colab_type": "text"
      },
      "source": [
        "<a href=\"https://colab.research.google.com/github/dangdang2222/frankmocap_project/blob/main/skeleton_info_to_array(triangulation_preprocess).ipynb\" target=\"_parent\"><img src=\"https://colab.research.google.com/assets/colab-badge.svg\" alt=\"Open In Colab\"/></a>"
      ]
    },
    {
      "cell_type": "code",
      "source": [
        "from google.colab import drive\n",
        "drive.mount('/content/drive')"
      ],
      "metadata": {
        "colab": {
          "base_uri": "https://localhost:8080/"
        },
        "id": "lVCtXiqk0R_U",
        "outputId": "a783cae3-f5a0-4e16-c1fe-60fd63c2da68"
      },
      "execution_count": 6,
      "outputs": [
        {
          "output_type": "stream",
          "name": "stdout",
          "text": [
            "Drive already mounted at /content/drive; to attempt to forcibly remount, call drive.mount(\"/content/drive\", force_remount=True).\n"
          ]
        }
      ]
    },
    {
      "cell_type": "code",
      "execution_count": 7,
      "metadata": {
        "id": "aUiQI3oG0QE5"
      },
      "outputs": [],
      "source": [
        "import pandas as pd\n",
        "import numpy as np"
      ]
    },
    {
      "cell_type": "code",
      "source": [
        "df0 = pd.read_csv('/content/drive/MyDrive/2D Skeleton(CSV), JPG/camera0/local_keypoints/Motion2-1 - 1of4.csv').to_numpy()\n",
        "df1 = pd.read_csv('/content/drive/MyDrive/2D Skeleton(CSV), JPG/camera1/local_keypoints/Motion2-2 - 1of4.csv').to_numpy()\n",
        "df2 = pd.read_csv('/content/drive/MyDrive/2D Skeleton(CSV), JPG/camera2/local_keypoints/Motion2-3 - 1of4.csv').to_numpy()\n",
        "df3 = pd.read_csv('/content/drive/MyDrive/2D Skeleton(CSV), JPG/camera3/local_keypoints/Motion2-4 - 1of4.csv').to_numpy()\n",
        "df4 = pd.read_csv('/content/drive/MyDrive/2D Skeleton(CSV), JPG/camera4/local_keypoints/Motion2-5 - 1of4.csv').to_numpy()\n",
        "df5 = pd.read_csv('/content/drive/MyDrive/2D Skeleton(CSV), JPG/camera5/local_keypoints/Motion2-6 - 1of4.csv').to_numpy()\n",
        "df6 = pd.read_csv('/content/drive/MyDrive/2D Skeleton(CSV), JPG/camera6/local_keypoints/Motion2-7 - 1of4.csv').to_numpy()\n",
        "df7 = pd.read_csv('/content/drive/MyDrive/2D Skeleton(CSV), JPG/camera7/local_keypoints/Motion2-8 - 1of4.csv').to_numpy()"
      ],
      "metadata": {
        "id": "zWuNZkND0hRI"
      },
      "execution_count": 28,
      "outputs": []
    },
    {
      "cell_type": "markdown",
      "source": [
        "[Nose][LEye][REye][Lear][Rear][LShoulder][RShoulder][LElbow][RElbow][LWrist][RWrist][LHip][RHip][LKnee][RKnee][LAnkle][RAnkle][Head][Neck][Hip][LBigToe][RBigToe][LSmallToe][RSmallToe][LHeel][RHeel]\n",
        "\n",
        "(301,8,26,2)로 만들기\n",
        "(frame, camera, point, dimension)"
      ],
      "metadata": {
        "id": "ViSWIh0j2IcA"
      }
    },
    {
      "cell_type": "code",
      "source": [
        "a=[]\n",
        "for frame_idx in range(301):\n",
        "  point_array0=[]\n",
        "  point_array1=[]\n",
        "  point_array2=[]\n",
        "  point_array3=[]\n",
        "  point_array4=[]\n",
        "  point_array5=[]\n",
        "  point_array6=[]\n",
        "  point_array7=[]\n",
        "  for point_idx in range(1,27):\n",
        "    point_array0.append([df0[frame_idx][2*point_idx-1],df0[frame_idx][2*point_idx]])\n",
        "    point_array1.append([df1[frame_idx][2*point_idx-1],df1[frame_idx][2*point_idx]])\n",
        "    point_array2.append([df2[frame_idx][2*point_idx-1],df2[frame_idx][2*point_idx]])\n",
        "    point_array3.append([df3[frame_idx][2*point_idx-1],df3[frame_idx][2*point_idx]])\n",
        "    point_array4.append([df4[frame_idx][2*point_idx-1],df4[frame_idx][2*point_idx]])\n",
        "    point_array5.append([df5[frame_idx][2*point_idx-1],df5[frame_idx][2*point_idx]])\n",
        "    point_array6.append([df6[frame_idx][2*point_idx-1],df6[frame_idx][2*point_idx]])\n",
        "    point_array7.append([df7[frame_idx][2*point_idx-1],df7[frame_idx][2*point_idx]])\n",
        "  a.append([point_array0,point_array1,point_array2,point_array3,point_array4,point_array5,point_array6,point_array7])"
      ],
      "metadata": {
        "id": "KU33wGrh0yUZ"
      },
      "execution_count": 41,
      "outputs": []
    },
    {
      "cell_type": "code",
      "source": [
        "a.shape"
      ],
      "metadata": {
        "colab": {
          "base_uri": "https://localhost:8080/"
        },
        "id": "xUOGhjex_Myj",
        "outputId": "8d4ea804-bb4a-43f3-97f3-7e62a61acf89"
      },
      "execution_count": 43,
      "outputs": [
        {
          "output_type": "execute_result",
          "data": {
            "text/plain": [
              "(301, 8, 26, 2)"
            ]
          },
          "metadata": {},
          "execution_count": 43
        }
      ]
    }
  ]
}